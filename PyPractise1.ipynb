{
  "nbformat": 4,
  "nbformat_minor": 0,
  "metadata": {
    "colab": {
      "name": "PyPractise1.ipynb",
      "provenance": [],
      "collapsed_sections": [],
      "authorship_tag": "ABX9TyPiq7S0yIve59KdEdWU7PUC",
      "include_colab_link": true
    },
    "kernelspec": {
      "name": "python3",
      "display_name": "Python 3"
    },
    "language_info": {
      "name": "python"
    }
  },
  "cells": [
    {
      "cell_type": "markdown",
      "metadata": {
        "id": "view-in-github",
        "colab_type": "text"
      },
      "source": [
        "<a href=\"https://colab.research.google.com/github/adithyaGHegde/PythonPractice/blob/main/PyPractise1.ipynb\" target=\"_parent\"><img src=\"https://colab.research.google.com/assets/colab-badge.svg\" alt=\"Open In Colab\"/></a>"
      ]
    },
    {
      "cell_type": "markdown",
      "metadata": {
        "id": "2CQE_Ip6Slj0"
      },
      "source": [
        "### Python Basic\n",
        "1. Keywords: More than 30\n",
        "2. Identifiers: Can't start with number, no special characters\n",
        "3. Statements: (\\) Line continuation character for explicit line continuation, {},[],() for Implicit line continuation\n",
        "4. Indentation: Can be ignored in line continuation\n",
        "5. Comments: #, \"\"\"for multiline comments or line continuation string\"\"\"\n",
        "6. Docstring: The docstrings are declared using ”’triple single quotes”’ or “””triple double quotes””” just below the class, method or function declaration. All functions should have a docstring. Just the first multiline comment as shown below."
      ]
    },
    {
      "cell_type": "code",
      "metadata": {
        "colab": {
          "base_uri": "https://localhost:8080/"
        },
        "id": "BoH10xWVWEOo",
        "outputId": "ee376dbd-fdbc-44a2-e5a4-611591a60752"
      },
      "source": [
        "def sum(num):\n",
        "    '''Func to the Val'''\n",
        "    \"\"\"Function to the values\"\"\"\n",
        "    return 2+num\n",
        "\n",
        "print(sum.__doc__) #.__doc__ gives the docstring i.e what is in triple quotes"
      ],
      "execution_count": 5,
      "outputs": [
        {
          "output_type": "stream",
          "name": "stdout",
          "text": [
            "Func to the Val\n"
          ]
        }
      ]
    },
    {
      "cell_type": "markdown",
      "metadata": {
        "id": "4DaYAQZ0Zsdu"
      },
      "source": [
        "# 7. Variables: Multiple can be assigned in one line"
      ]
    },
    {
      "cell_type": "code",
      "metadata": {
        "colab": {
          "base_uri": "https://localhost:8080/"
        },
        "id": "TzRoArjGbX3k",
        "outputId": "a3dcd276-ed39-4da9-8c6c-5e96bcfdf756"
      },
      "source": [
        "mySite,myBlog = \"https://www.hobbybytes.in\",\"https://www.hobbybytes.com\"\n",
        "\n",
        "print(mySite,myBlog)\n",
        "\n",
        "\"\"\"mySite,myBlog = \"https://www.hobbybytes.in\" #gives error\"\"\"\n",
        "\n",
        "mySite = myBlog = \"https://www.hobbybytes.in\" #correct way\n",
        "print(mySite,myBlog)"
      ],
      "execution_count": 9,
      "outputs": [
        {
          "output_type": "stream",
          "name": "stdout",
          "text": [
            "https://www.hobbybytes.in https://www.hobbybytes.com\n",
            "https://www.hobbybytes.in https://www.hobbybytes.in\n"
          ]
        }
      ]
    },
    {
      "cell_type": "markdown",
      "metadata": {
        "id": "0jAo98Rje4Sq"
      },
      "source": [
        "Examples of valid identifiers: a123, _n, n_9, etc.\n",
        "\n",
        "In python, When we assign any value to the variable, that variable is declared automatically."
      ]
    },
    {
      "cell_type": "markdown",
      "metadata": {
        "id": "VSODYpzMfQtV"
      },
      "source": [
        "# Object references\n",
        "\n",
        "Python is the highly object-oriented programming language; that's why every data item belongs to a specific type of class. \"India\" will be a string, a=5 will be an integer.\n",
        "\n"
      ]
    },
    {
      "cell_type": "markdown",
      "metadata": {
        "id": "SM6P0NzLggBP"
      },
      "source": [
        "In Python, variables are a symbolic name that is a reference or pointer to an object. The variables are used to denote objects by that name.The variable b refers to the same object that a points to because Python does not create another object."
      ]
    },
    {
      "cell_type": "code",
      "metadata": {
        "id": "5lm1tVEOz6zx",
        "colab": {
          "base_uri": "https://localhost:8080/"
        },
        "outputId": "edf15f64-1483-475b-dbea-aa80f98e694c"
      },
      "source": [
        "a = 50 #a-->50\n",
        "a=b=50 #no new object is created\n",
        "#a--> 50 <--b\n",
        "print(a,b)\n",
        "print(id(a),id(b)) #they will have same id\n",
        "\n",
        "b=100 #here new object is created\n",
        "print(a,b)\n",
        "print(id(a),id(b)) #to show unique identity"
      ],
      "execution_count": 37,
      "outputs": [
        {
          "output_type": "stream",
          "name": "stdout",
          "text": [
            "50 50\n",
            "94425852502048 94425852502048\n",
            "50 100\n",
            "94425852502048 94425852503648\n"
          ]
        }
      ]
    },
    {
      "cell_type": "markdown",
      "metadata": {
        "id": "Tgj0q2FWhDk9"
      },
      "source": [
        "As shown above, Each object has unique Identity. No two objects have same identity."
      ]
    },
    {
      "cell_type": "markdown",
      "metadata": {
        "id": "jS9QkWfhh6j4"
      },
      "source": [
        "# Variable types\n",
        "\n",
        "Local variable"
      ]
    },
    {
      "cell_type": "code",
      "metadata": {
        "id": "L3nSt-pbipfj"
      },
      "source": [
        "# Declaring a function  \n",
        "def Myadd():  \n",
        "    # Defining local variables. They has scope only within a function  \n",
        "    m = 40  \n",
        "    n = 40  \n",
        "    p = m + n \n",
        "    print(\"The sum is:\", p)  \n",
        "  \n",
        "# Calling a function  \n",
        "Myadd()  \n",
        "\n",
        "# Accessing local variable outside the function. Gives an error   \n",
        "print(m)  "
      ],
      "execution_count": null,
      "outputs": []
    },
    {
      "cell_type": "markdown",
      "metadata": {
        "id": "4yFihpn6iyhs"
      },
      "source": [
        "Global variable"
      ]
    },
    {
      "cell_type": "code",
      "metadata": {
        "colab": {
          "base_uri": "https://localhost:8080/"
        },
        "id": "L1tD3qnyiz3m",
        "outputId": "3752c23d-4ba0-45ec-c094-056628c5b428"
      },
      "source": [
        "# Declare a variable and initialize it  \n",
        "x = 200\n",
        "print(id(x))\n",
        "\n",
        "# Global variable in function  \n",
        "def mFunction():  \n",
        "    # printing a global variable  \n",
        "    global x  \n",
        "    y= \"local\"\n",
        "    \"\"\"have to reference global variable so it doesn't \n",
        "                 give error that local variable has been used without assignment\n",
        "              \"\"\"\n",
        "    print(x)  #prints 200\n",
        "    print(id(x))\n",
        "\n",
        "    print(\"y \"+y)\n",
        "    print(id(y))\n",
        "\n",
        "    y='local modified'\n",
        "    print(id(y))\n",
        "\n",
        "    # modifying a global variable  \n",
        "    x = 'Im a global variable being modified in function' \n",
        "    #here x id has been changed? \n",
        "    print(x) \n",
        "    print(id(x))\n",
        "\n",
        "    x ='Changed twice'\n",
        "    print(x) \n",
        "    print(id(x))\n",
        " \n",
        "  \n",
        "mFunction()  \n",
        "print(x)  #use outside function: has been modified\n",
        "print(id(x))\n",
        "\n",
        "\n",
        "del x\n",
        "def lFunction():\n",
        "  x= \"I'm local\"\n",
        "  print(x)\n",
        "  print(id(x))\n",
        "\n",
        "lFunction()\n",
        "\n"
      ],
      "execution_count": 33,
      "outputs": [
        {
          "output_type": "stream",
          "name": "stdout",
          "text": [
            "94425852506848\n",
            "200\n",
            "94425852506848\n",
            "y local\n",
            "139730116810416\n",
            "139729426431536\n",
            "Im a global variable being modified in function\n",
            "139729426441008\n",
            "Changed twice\n",
            "139729426429616\n",
            "Changed twice\n",
            "139729426429616\n",
            "I'm local\n",
            "139729495003184\n"
          ]
        }
      ]
    },
    {
      "cell_type": "markdown",
      "metadata": {
        "id": "xdEJ8JxqnF1R"
      },
      "source": [
        "RAFO: As shown above, when we assign different value a new object is created?"
      ]
    },
    {
      "cell_type": "markdown",
      "metadata": {
        "id": "xn7SPYfEnQ3h"
      },
      "source": [
        "Python doesn't have long int or float data types. It treats all integer values as an int data type. there is no limitation number by bits and we can expand to the limit of our memory."
      ]
    },
    {
      "cell_type": "markdown",
      "metadata": {
        "id": "d6xefLneFWIS"
      },
      "source": [
        "# Namespace\n",
        "### Name and id\n",
        "\n"
      ]
    },
    {
      "cell_type": "code",
      "metadata": {
        "colab": {
          "base_uri": "https://localhost:8080/"
        },
        "id": "dRKzy2utGCi3",
        "outputId": "a9ba3519-d0dc-4bbf-dd65-23cfa6c96560"
      },
      "source": [
        "# Note:  different values for the id\n",
        "\n",
        "b = 2      # refer to same id\n",
        "\n",
        "print('id(2) =', id(2))\n",
        "\n",
        "print('id(b) =', id(b))\n",
        "\n",
        "\n",
        "b = b+1\n",
        "\n",
        "print('id(b) =', id(b))\n",
        "\n",
        "print('id(3) =', id(3))    # refer to different id"
      ],
      "execution_count": 1,
      "outputs": [
        {
          "output_type": "stream",
          "name": "stdout",
          "text": [
            "id(2) = 94216775272992\n",
            "id(b) = 94216775272992\n",
            "id(b) = 94216775273024\n",
            "id(3) = 94216775273024\n"
          ]
        }
      ]
    },
    {
      "cell_type": "markdown",
      "metadata": {
        "id": "za28yQoGPAuY"
      },
      "source": [
        "A namespace is a collection of names the user has assigned to corresponding objects. \n",
        "\n",
        "Built in namespace is created when interpreter runs.\n",
        "\n",
        "Each module containing functions and classes creates its own global namespace.\n",
        "The different namespaces are isolated. Hence, the same name that may exist in different modules does not conflict.\n",
        "\n",
        "A local namespace is created when a function is called. It is similar to the case with a class."
      ]
    },
    {
      "cell_type": "markdown",
      "metadata": {
        "id": "oTjRkkgIQlPV"
      },
      "source": [
        "# Python scope\n",
        "A scope is the portion of a program from where a namespace can be accessed directly without any prefix.\n",
        "Three common nested scopes are .\n",
        "\n",
        "1. Scope of the current function which has local names\n",
        "2. Scope of the module which has global names\n",
        "3. Outermost scope which has built-in names\n",
        "\n",
        "When a reference is made, first name is searched in local namespace, then global, then built in."
      ]
    },
    {
      "cell_type": "code",
      "metadata": {
        "colab": {
          "base_uri": "https://localhost:8080/"
        },
        "id": "okFMYwRrRcHC",
        "outputId": "55ffa094-a0e4-4d72-96f9-c12d81cee466"
      },
      "source": [
        "# Example :\n",
        "# The variable a is in the global namespace. Variable b is in the local namespace of \n",
        "# outer_function() and c is in the nested local namespace of inner_function()\n",
        "\n",
        "''' If we try to assign as a value to b, a new variable b is created in the local namespace which is different than the nonlocal b. The same thing happens when we assign a value to a.\n",
        "if we declare a as global, all the reference and assignment go to the global a. Similarly, if we want to rebind the variable b, it must be declared as nonlocal. '''\n",
        "\n",
        "#Illustration of scope and global scope\n",
        "def outer_function():\n",
        "    b = 40\n",
        "    a = 30\n",
        "    print(a,b)\n",
        "    \n",
        "    def inner_func():\n",
        "        c = 35\n",
        "        b = 50\n",
        "        global a\n",
        "        a = 45\n",
        "        print(a,b,c)\n",
        "    \n",
        "    inner_func()\n",
        "    print(a,b)\n",
        "\n",
        "\n",
        "a = 20\n",
        "outer_function()\n",
        "print('a =', a)\n",
        "# When we are in inner_function(), c is local to us, b is nonlocal and a is global.\n"
      ],
      "execution_count": 11,
      "outputs": [
        {
          "output_type": "stream",
          "name": "stdout",
          "text": [
            "30 40\n",
            "45 50 35\n",
            "30 40\n",
            "a = 45\n"
          ]
        }
      ]
    },
    {
      "cell_type": "code",
      "metadata": {
        "colab": {
          "base_uri": "https://localhost:8080/"
        },
        "id": "X4EH0tFFR8Tw",
        "outputId": "4aab7ea2-e8c1-4adc-fcc1-865272482be0"
      },
      "source": [
        "def outer_function():\n",
        "    a = 20\n",
        "\n",
        "    def inner_function():\n",
        "        a = 30\n",
        "        print('a =', a)\n",
        "\n",
        "    inner_function()\n",
        "    print('a =', a)\n",
        "\n",
        "\n",
        "a = 10\n",
        "outer_function()\n",
        "print('a is', a)"
      ],
      "execution_count": 5,
      "outputs": [
        {
          "output_type": "stream",
          "name": "stdout",
          "text": [
            "a = 30\n",
            "a = 20\n",
            "a = 10\n"
          ]
        }
      ]
    }
  ]
}